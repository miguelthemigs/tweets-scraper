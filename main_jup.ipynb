{
 "cells": [
  {
   "cell_type": "code",
   "execution_count": 1,
   "metadata": {},
   "outputs": [],
   "source": [
    "import tweepy as tw\n",
    "import pandas as pd"
   ]
  },
  {
   "cell_type": "code",
   "execution_count": 2,
   "metadata": {},
   "outputs": [],
   "source": [
    "CONSUMER_KEY = '*****************'\n",
    "CONSUMER_SECRET = '*****************'\n",
    "ACCESS_TOKEN = '*****************'\n",
    "ACCESS_TOKEN_SECRET = '*****************'\n",
    "BEARER_TOKEN = '*****************'"
   ]
  },
  {
   "cell_type": "code",
   "execution_count": 3,
   "metadata": {},
   "outputs": [],
   "source": [
    "cliente = tw.Client(bearer_token=BEARER_TOKEN, consumer_key=CONSUMER_KEY, consumer_secret=CONSUMER_SECRET, access_token=ACCESS_TOKEN, access_token_secret=ACCESS_TOKEN_SECRET) "
   ]
  },
  {
   "cell_type": "code",
   "execution_count": 4,
   "metadata": {},
   "outputs": [],
   "source": [
    "START = '2022-07-24T10:00:01Z' # YYYY-MM-DDTHH:mm:ssZ\n",
    "END = '2022-07-30T20:20:01Z'"
   ]
  },
  {
   "cell_type": "code",
   "execution_count": 5,
   "metadata": {},
   "outputs": [],
   "source": [
    "resposta = cliente.search_recent_tweets(query='Stranger Things', start_time=START, end_time=END, max_results=100)\n",
    "tweets = resposta.data"
   ]
  },
  {
   "cell_type": "code",
   "execution_count": 6,
   "metadata": {},
   "outputs": [
    {
     "data": {
      "text/plain": [
       "<Tweet id=1553475514928889856 text=RT @zingingcutiee23: 2 months since Stranger Things premiered and I still have to read tweets about Eddie Munson everyday. ENOUGH ALREADY>"
      ]
     },
     "execution_count": 6,
     "metadata": {},
     "output_type": "execute_result"
    }
   ],
   "source": [
    "tweets[0]"
   ]
  },
  {
   "cell_type": "code",
   "execution_count": 7,
   "metadata": {},
   "outputs": [
    {
     "data": {
      "text/plain": [
       "'RT @zingingcutiee23: 2 months since Stranger Things premiered and I still have to read tweets about Eddie Munson everyday. ENOUGH ALREADY'"
      ]
     },
     "execution_count": 7,
     "metadata": {},
     "output_type": "execute_result"
    }
   ],
   "source": [
    "tweets[0].text"
   ]
  },
  {
   "cell_type": "code",
   "execution_count": 15,
   "metadata": {},
   "outputs": [],
   "source": [
    "base = []\n",
    "for el in tweets:\n",
    "    rt_count = False\n",
    "    line = [0 for j in range(12)]\n",
    "    line[0] = el.text\n",
    "    texto = el.text\n",
    "    if 'RT' in texto:\n",
    "        pos = texto.find(':')\n",
    "        texto = texto[pos + 2]\n",
    "        rt_count = True\n",
    "        \n",
    "    line[1] = 1 if ('eddie' in texto.lower()) else 0\n",
    "    line[2] = 1 if ('eleven' in texto.lower() or 'el' in texto.lower()) else 0\n",
    "    line[3] = 1 if ('max' in texto.lower()) else 0\n",
    "    line[4] = 1 if ('dustin' in texto.lower()) else 0\n",
    "    line[5] = 1 if ('will' in texto.lower()) else 0\n",
    "    line[6] = 1 if ('mike' in texto.lower()) else 0\n",
    "    line[7] = 1 if ('vecna' in texto.lower()) else 0\n",
    "    line[8] = 1 if ('robin' in texto.lower()) else 0\n",
    "    line[9] = 1 if ('nancy' in texto.lower()) else 0\n",
    "    line[10] = 1 if ('steven' in texto.lower()) else 0\n",
    "    line[11] = 1 if (rt_count == True) else 0\n",
    "    base.append(line)\n",
    "    "
   ]
  },
  {
   "cell_type": "code",
   "execution_count": 19,
   "metadata": {},
   "outputs": [
    {
     "data": {
      "text/html": [
       "<div>\n",
       "<style scoped>\n",
       "    .dataframe tbody tr th:only-of-type {\n",
       "        vertical-align: middle;\n",
       "    }\n",
       "\n",
       "    .dataframe tbody tr th {\n",
       "        vertical-align: top;\n",
       "    }\n",
       "\n",
       "    .dataframe thead th {\n",
       "        text-align: right;\n",
       "    }\n",
       "</style>\n",
       "<table border=\"1\" class=\"dataframe\">\n",
       "  <thead>\n",
       "    <tr style=\"text-align: right;\">\n",
       "      <th></th>\n",
       "      <th>text</th>\n",
       "      <th>eddie</th>\n",
       "      <th>eleven</th>\n",
       "      <th>max</th>\n",
       "      <th>dustin</th>\n",
       "      <th>will</th>\n",
       "      <th>mike</th>\n",
       "      <th>vecna</th>\n",
       "      <th>robin</th>\n",
       "      <th>nancy</th>\n",
       "      <th>steven</th>\n",
       "      <th>RT</th>\n",
       "    </tr>\n",
       "  </thead>\n",
       "  <tbody>\n",
       "    <tr>\n",
       "      <th>0</th>\n",
       "      <td>RT @zingingcutiee23: 2 months since Stranger T...</td>\n",
       "      <td>0</td>\n",
       "      <td>0</td>\n",
       "      <td>0</td>\n",
       "      <td>0</td>\n",
       "      <td>0</td>\n",
       "      <td>0</td>\n",
       "      <td>0</td>\n",
       "      <td>0</td>\n",
       "      <td>0</td>\n",
       "      <td>0</td>\n",
       "      <td>1</td>\n",
       "    </tr>\n",
       "    <tr>\n",
       "      <th>1</th>\n",
       "      <td>Teen Wolf I guess et maybe The 100 ou Stranger...</td>\n",
       "      <td>0</td>\n",
       "      <td>0</td>\n",
       "      <td>0</td>\n",
       "      <td>0</td>\n",
       "      <td>0</td>\n",
       "      <td>0</td>\n",
       "      <td>0</td>\n",
       "      <td>0</td>\n",
       "      <td>0</td>\n",
       "      <td>0</td>\n",
       "      <td>0</td>\n",
       "    </tr>\n",
       "    <tr>\n",
       "      <th>2</th>\n",
       "      <td>RT @LeaksDbd: In fact, due to new info that we...</td>\n",
       "      <td>0</td>\n",
       "      <td>0</td>\n",
       "      <td>0</td>\n",
       "      <td>0</td>\n",
       "      <td>0</td>\n",
       "      <td>0</td>\n",
       "      <td>0</td>\n",
       "      <td>0</td>\n",
       "      <td>0</td>\n",
       "      <td>0</td>\n",
       "      <td>1</td>\n",
       "    </tr>\n",
       "    <tr>\n",
       "      <th>3</th>\n",
       "      <td>RT @backendoc: gravity falls walked so strange...</td>\n",
       "      <td>0</td>\n",
       "      <td>0</td>\n",
       "      <td>0</td>\n",
       "      <td>0</td>\n",
       "      <td>0</td>\n",
       "      <td>0</td>\n",
       "      <td>0</td>\n",
       "      <td>0</td>\n",
       "      <td>0</td>\n",
       "      <td>0</td>\n",
       "      <td>1</td>\n",
       "    </tr>\n",
       "    <tr>\n",
       "      <th>4</th>\n",
       "      <td>RT @panghahawakan: hey remember when stranger ...</td>\n",
       "      <td>0</td>\n",
       "      <td>0</td>\n",
       "      <td>0</td>\n",
       "      <td>0</td>\n",
       "      <td>0</td>\n",
       "      <td>0</td>\n",
       "      <td>0</td>\n",
       "      <td>0</td>\n",
       "      <td>0</td>\n",
       "      <td>0</td>\n",
       "      <td>1</td>\n",
       "    </tr>\n",
       "    <tr>\n",
       "      <th>...</th>\n",
       "      <td>...</td>\n",
       "      <td>...</td>\n",
       "      <td>...</td>\n",
       "      <td>...</td>\n",
       "      <td>...</td>\n",
       "      <td>...</td>\n",
       "      <td>...</td>\n",
       "      <td>...</td>\n",
       "      <td>...</td>\n",
       "      <td>...</td>\n",
       "      <td>...</td>\n",
       "      <td>...</td>\n",
       "    </tr>\n",
       "    <tr>\n",
       "      <th>95</th>\n",
       "      <td>@Metallica @Stranger_Things @lollapalooza Eddi...</td>\n",
       "      <td>1</td>\n",
       "      <td>0</td>\n",
       "      <td>0</td>\n",
       "      <td>0</td>\n",
       "      <td>0</td>\n",
       "      <td>0</td>\n",
       "      <td>0</td>\n",
       "      <td>0</td>\n",
       "      <td>0</td>\n",
       "      <td>0</td>\n",
       "      <td>0</td>\n",
       "    </tr>\n",
       "    <tr>\n",
       "      <th>96</th>\n",
       "      <td>RT @backendoc: gravity falls walked so strange...</td>\n",
       "      <td>0</td>\n",
       "      <td>0</td>\n",
       "      <td>0</td>\n",
       "      <td>0</td>\n",
       "      <td>0</td>\n",
       "      <td>0</td>\n",
       "      <td>0</td>\n",
       "      <td>0</td>\n",
       "      <td>0</td>\n",
       "      <td>0</td>\n",
       "      <td>1</td>\n",
       "    </tr>\n",
       "    <tr>\n",
       "      <th>97</th>\n",
       "      <td>RT @backendoc: gravity falls walked so strange...</td>\n",
       "      <td>0</td>\n",
       "      <td>0</td>\n",
       "      <td>0</td>\n",
       "      <td>0</td>\n",
       "      <td>0</td>\n",
       "      <td>0</td>\n",
       "      <td>0</td>\n",
       "      <td>0</td>\n",
       "      <td>0</td>\n",
       "      <td>0</td>\n",
       "      <td>1</td>\n",
       "    </tr>\n",
       "    <tr>\n",
       "      <th>98</th>\n",
       "      <td>RT @mitsukileaks: they dont explore trauma muc...</td>\n",
       "      <td>0</td>\n",
       "      <td>0</td>\n",
       "      <td>0</td>\n",
       "      <td>0</td>\n",
       "      <td>0</td>\n",
       "      <td>0</td>\n",
       "      <td>0</td>\n",
       "      <td>0</td>\n",
       "      <td>0</td>\n",
       "      <td>0</td>\n",
       "      <td>1</td>\n",
       "    </tr>\n",
       "    <tr>\n",
       "      <th>99</th>\n",
       "      <td>RT @backendoc: gravity falls walked so strange...</td>\n",
       "      <td>0</td>\n",
       "      <td>0</td>\n",
       "      <td>0</td>\n",
       "      <td>0</td>\n",
       "      <td>0</td>\n",
       "      <td>0</td>\n",
       "      <td>0</td>\n",
       "      <td>0</td>\n",
       "      <td>0</td>\n",
       "      <td>0</td>\n",
       "      <td>1</td>\n",
       "    </tr>\n",
       "  </tbody>\n",
       "</table>\n",
       "<p>100 rows × 12 columns</p>\n",
       "</div>"
      ],
      "text/plain": [
       "                                                 text  eddie  eleven  max  \\\n",
       "0   RT @zingingcutiee23: 2 months since Stranger T...      0       0    0   \n",
       "1   Teen Wolf I guess et maybe The 100 ou Stranger...      0       0    0   \n",
       "2   RT @LeaksDbd: In fact, due to new info that we...      0       0    0   \n",
       "3   RT @backendoc: gravity falls walked so strange...      0       0    0   \n",
       "4   RT @panghahawakan: hey remember when stranger ...      0       0    0   \n",
       "..                                                ...    ...     ...  ...   \n",
       "95  @Metallica @Stranger_Things @lollapalooza Eddi...      1       0    0   \n",
       "96  RT @backendoc: gravity falls walked so strange...      0       0    0   \n",
       "97  RT @backendoc: gravity falls walked so strange...      0       0    0   \n",
       "98  RT @mitsukileaks: they dont explore trauma muc...      0       0    0   \n",
       "99  RT @backendoc: gravity falls walked so strange...      0       0    0   \n",
       "\n",
       "    dustin  will  mike  vecna  robin  nancy  steven  RT  \n",
       "0        0     0     0      0      0      0       0   1  \n",
       "1        0     0     0      0      0      0       0   0  \n",
       "2        0     0     0      0      0      0       0   1  \n",
       "3        0     0     0      0      0      0       0   1  \n",
       "4        0     0     0      0      0      0       0   1  \n",
       "..     ...   ...   ...    ...    ...    ...     ...  ..  \n",
       "95       0     0     0      0      0      0       0   0  \n",
       "96       0     0     0      0      0      0       0   1  \n",
       "97       0     0     0      0      0      0       0   1  \n",
       "98       0     0     0      0      0      0       0   1  \n",
       "99       0     0     0      0      0      0       0   1  \n",
       "\n",
       "[100 rows x 12 columns]"
      ]
     },
     "metadata": {},
     "output_type": "display_data"
    }
   ],
   "source": [
    "base_stranger_things = pd.DataFrame(base)\n",
    "base_stranger_things.columns = ['text', 'eddie', 'eleven', 'max', 'dustin', 'will', 'mike', 'vecna', 'robin', 'nancy', 'steven', 'RT']\n",
    "display(base_stranger_things)"
   ]
  },
  {
   "cell_type": "code",
   "execution_count": 21,
   "metadata": {},
   "outputs": [],
   "source": [
    "base_count = base_stranger_things.drop(['text', 'RT'], axis=1) # axis=1 é coluna"
   ]
  },
  {
   "cell_type": "code",
   "execution_count": 30,
   "metadata": {},
   "outputs": [
    {
     "data": {
      "text/plain": [
       "[5, 2, 1, 0, 0, 0, 0, 0, 0, 0]"
      ]
     },
     "execution_count": 30,
     "metadata": {},
     "output_type": "execute_result"
    }
   ],
   "source": [
    "contagem = base_count.sum().sort_values(ascending=False).to_list()\n",
    "contagem"
   ]
  },
  {
   "cell_type": "code",
   "execution_count": 38,
   "metadata": {},
   "outputs": [
    {
     "data": {
      "text/plain": [
       "['eleven',\n",
       " 'will',\n",
       " 'eddie',\n",
       " 'max',\n",
       " 'dustin',\n",
       " 'mike',\n",
       " 'vecna',\n",
       " 'robin',\n",
       " 'nancy',\n",
       " 'steven']"
      ]
     },
     "execution_count": 38,
     "metadata": {},
     "output_type": "execute_result"
    }
   ],
   "source": [
    "personagens = base_count.sum().sort_values(ascending=False).index.to_list()\n",
    "personagens"
   ]
  },
  {
   "cell_type": "code",
   "execution_count": 36,
   "metadata": {},
   "outputs": [
    {
     "data": {
      "text/html": [
       "<div>\n",
       "<style scoped>\n",
       "    .dataframe tbody tr th:only-of-type {\n",
       "        vertical-align: middle;\n",
       "    }\n",
       "\n",
       "    .dataframe tbody tr th {\n",
       "        vertical-align: top;\n",
       "    }\n",
       "\n",
       "    .dataframe thead th {\n",
       "        text-align: right;\n",
       "    }\n",
       "</style>\n",
       "<table border=\"1\" class=\"dataframe\">\n",
       "  <thead>\n",
       "    <tr style=\"text-align: right;\">\n",
       "      <th></th>\n",
       "      <th>personagens</th>\n",
       "      <th>tweets</th>\n",
       "    </tr>\n",
       "  </thead>\n",
       "  <tbody>\n",
       "    <tr>\n",
       "      <th>0</th>\n",
       "      <td>eleven</td>\n",
       "      <td>5</td>\n",
       "    </tr>\n",
       "    <tr>\n",
       "      <th>1</th>\n",
       "      <td>will</td>\n",
       "      <td>2</td>\n",
       "    </tr>\n",
       "    <tr>\n",
       "      <th>2</th>\n",
       "      <td>eddie</td>\n",
       "      <td>1</td>\n",
       "    </tr>\n",
       "    <tr>\n",
       "      <th>3</th>\n",
       "      <td>max</td>\n",
       "      <td>0</td>\n",
       "    </tr>\n",
       "    <tr>\n",
       "      <th>4</th>\n",
       "      <td>dustin</td>\n",
       "      <td>0</td>\n",
       "    </tr>\n",
       "    <tr>\n",
       "      <th>5</th>\n",
       "      <td>mike</td>\n",
       "      <td>0</td>\n",
       "    </tr>\n",
       "    <tr>\n",
       "      <th>6</th>\n",
       "      <td>vecna</td>\n",
       "      <td>0</td>\n",
       "    </tr>\n",
       "    <tr>\n",
       "      <th>7</th>\n",
       "      <td>robin</td>\n",
       "      <td>0</td>\n",
       "    </tr>\n",
       "    <tr>\n",
       "      <th>8</th>\n",
       "      <td>nancy</td>\n",
       "      <td>0</td>\n",
       "    </tr>\n",
       "    <tr>\n",
       "      <th>9</th>\n",
       "      <td>steven</td>\n",
       "      <td>0</td>\n",
       "    </tr>\n",
       "  </tbody>\n",
       "</table>\n",
       "</div>"
      ],
      "text/plain": [
       "  personagens  tweets\n",
       "0      eleven       5\n",
       "1        will       2\n",
       "2       eddie       1\n",
       "3         max       0\n",
       "4      dustin       0\n",
       "5        mike       0\n",
       "6       vecna       0\n",
       "7       robin       0\n",
       "8       nancy       0\n",
       "9      steven       0"
      ]
     },
     "execution_count": 36,
     "metadata": {},
     "output_type": "execute_result"
    }
   ],
   "source": [
    "tabela = pd.DataFrame(zip(personagens, contagem)) # zip junta duas listas\n",
    "tabela.columns = ['personagens', 'tweets']\n",
    "tabela"
   ]
  },
  {
   "cell_type": "code",
   "execution_count": 37,
   "metadata": {},
   "outputs": [
    {
     "data": {
      "text/plain": [
       "8"
      ]
     },
     "execution_count": 37,
     "metadata": {},
     "output_type": "execute_result"
    }
   ],
   "source": [
    "total_contagem = tabela['tweets'].sum()\n",
    "total_contagem"
   ]
  },
  {
   "cell_type": "code",
   "execution_count": null,
   "metadata": {},
   "outputs": [],
   "source": []
  }
 ],
 "metadata": {
  "kernelspec": {
   "display_name": "Python 3.10.3 64-bit",
   "language": "python",
   "name": "python3"
  },
  "language_info": {
   "codemirror_mode": {
    "name": "ipython",
    "version": 3
   },
   "file_extension": ".py",
   "mimetype": "text/x-python",
   "name": "python",
   "nbconvert_exporter": "python",
   "pygments_lexer": "ipython3",
   "version": "3.10.3"
  },
  "orig_nbformat": 4,
  "vscode": {
   "interpreter": {
    "hash": "b31fbf3ae32d50df144c186587f4a8691f513bd3831fc414288125b1baef1bc4"
   }
  }
 },
 "nbformat": 4,
 "nbformat_minor": 2
}
